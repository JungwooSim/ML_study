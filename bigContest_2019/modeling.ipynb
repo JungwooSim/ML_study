{
 "cells": [
  {
   "cell_type": "markdown",
   "metadata": {
    "colab_type": "text",
    "id": "tY7D6hr_1sFn"
   },
   "source": [
    "# 1. 모델링\n",
    "**EDA과정에서 얻은 정보를 모델링에 반영**<BR>\n",
    "1.기대이익 계산 공식을 보면 survival_time == 64 or amount_spent == 0 일 경우 기대이익은 0이 되는 것을 알 수 있다.<BR>\n",
    "2.EDA과정에서 survival_time가 amount_spent를 예측할때 중요한 feature가 되는 것을 알 수 있다.<BR><BR>\n",
    "\n",
    "\n",
    "**모델링 과정**<BR>\n",
    "1.survival_time == 64 과 amount_spent == 0를 우선 예측하여 feature로 사용할 예정이다.(기대이익이 최대한 0이 되는 경우를 피해야 할 것로 판단하였다.)<BR>\n",
    "2.survivaltime 예측<BR>\n",
    "3.amount_spent 예측<BR><BR>\n",
    "  \n",
    "**XGBoost Parameter Tuning**<BR>\n",
    "-Parameter Tuning 진행할때 오랜 시간이 걸리는 문제가 있어서 아래 링크를 참조하여 단계별로 GridSearch를 진행하여 문제를 해결하였다.<BR>\n",
    "-https://www.analyticsvidhya.com/blog/2016/03/complete-guide-parameter-tuning-xgboost-with-codes-python/<BR>"
   ]
  },
  {
   "cell_type": "code",
   "execution_count": 0,
   "metadata": {
    "colab": {},
    "colab_type": "code",
    "id": "GJ8BZXaf3uyE"
   },
   "outputs": [],
   "source": [
    "import numpy as np\n",
    "import pandas as pd\n",
    "import matplotlib.pyplot as plt\n",
    "import seaborn as sns\n",
    "import xgboost as xgb\n",
    "from sklearn.model_selection import GridSearchCV\n",
    "from sklearn.model_selection import train_test_split\n",
    "from sklearn import metrics"
   ]
  },
  {
   "cell_type": "code",
   "execution_count": 0,
   "metadata": {
    "colab": {},
    "colab_type": "code",
    "id": "gdRgWLID4HGo"
   },
   "outputs": [],
   "source": [
    "import basic_preprocessing"
   ]
  },
  {
   "cell_type": "code",
   "execution_count": 0,
   "metadata": {
    "colab": {},
    "colab_type": "code",
    "id": "VzDd_bfclGiE"
   },
   "outputs": [],
   "source": [
    "import score_function as sf"
   ]
  },
  {
   "cell_type": "markdown",
   "metadata": {
    "colab_type": "text",
    "id": "IX-fQJFFDXpL"
   },
   "source": [
    "## 1. amount_spent 0, !=0 구분"
   ]
  },
  {
   "cell_type": "code",
   "execution_count": 0,
   "metadata": {
    "colab": {},
    "colab_type": "code",
    "id": "q6Y2EFCl4HES"
   },
   "outputs": [],
   "source": [
    "train = basic_preprocessing.getTrainData()"
   ]
  },
  {
   "cell_type": "code",
   "execution_count": 0,
   "metadata": {
    "colab": {},
    "colab_type": "code",
    "id": "BxhlrG414HCR"
   },
   "outputs": [],
   "source": [
    "train['target_is_amount_spent'] = 0\n",
    "train.loc[train['target_amount_spent'] == 0, 'target_is_amount_spent'] = 1"
   ]
  },
  {
   "cell_type": "code",
   "execution_count": 0,
   "metadata": {
    "colab": {},
    "colab_type": "code",
    "id": "QebVobVH4G_8"
   },
   "outputs": [],
   "source": [
    "is_amount_df = train.drop(['target_amount_spent','target_survival_time','acc_id'], axis=1)\n",
    "\n",
    "X_train_is_amount = is_amount_df.drop('target_is_amount_spent', axis=1).values\n",
    "label_is_amount = is_amount_df['target_is_amount_spent'].values\n",
    "\n",
    "X_train, X_test, Y_train, Y_test = train_test_split(\n",
    "  X_train_is_amount,\n",
    "  label_is_amount,\n",
    "  random_state= 0 \n",
    ")"
   ]
  },
  {
   "cell_type": "code",
   "execution_count": 7,
   "metadata": {
    "colab": {
     "base_uri": "https://localhost:8080/",
     "height": 34
    },
    "colab_type": "code",
    "executionInfo": {
     "elapsed": 14286,
     "status": "ok",
     "timestamp": 1569212711988,
     "user": {
      "displayName": "심정우",
      "photoUrl": "",
      "userId": "06910719381420194462"
     },
     "user_tz": -540
    },
    "id": "TmseTsLoV4Ov",
    "outputId": "0b33bd1a-814f-4d24-e687-75f0747cad6f"
   },
   "outputs": [
    {
     "data": {
      "text/plain": [
       "(40000, 137)"
      ]
     },
     "execution_count": 7,
     "metadata": {
      "tags": []
     },
     "output_type": "execute_result"
    }
   ],
   "source": [
    "is_amount_df.shape"
   ]
  },
  {
   "cell_type": "code",
   "execution_count": 8,
   "metadata": {
    "colab": {
     "base_uri": "https://localhost:8080/",
     "height": 54
    },
    "colab_type": "code",
    "executionInfo": {
     "elapsed": 14278,
     "status": "ok",
     "timestamp": 1569212711989,
     "user": {
      "displayName": "심정우",
      "photoUrl": "",
      "userId": "06910719381420194462"
     },
     "user_tz": -540
    },
    "id": "elkZO6MG4G89",
    "outputId": "09b02b9c-ce2c-415b-bab0-9ce24d27569f"
   },
   "outputs": [
    {
     "data": {
      "text/plain": [
       "\"\\n\\n* 시간이 오래걸려서 주석처리\\n* 아래는 얻은 파라메터 값\\n\\n\\nparam_grid = {\\n    'silent' : [1],\\n    'max_depth' : [1,2,4,6,8,10],\\n    'min_child_weight' : [1,2,4,6,8,10],\\n    'gamma' : [0.0, 0.1, 0.2, 0.3, 0.4],\\n    'n_estimators' : [10, 50, 100, 300],\\n    'seed' : [1],\\n    'tree_method' : ['gpu_hist']\\n}\\n\\ngird_search = GridSearchCV(\\n    xgbClassifier,\\n    param_grid,\\n    cv = 5,\\n    return_train_score=True,\\n    n_jobs=8\\n)\\n\\ngird_search.fit(X_train, Y_train)\\n\\ngird_search.best_params_\\n\\n{\\n  'gamma': 0.0,\\n  'max_depth': 4,\\n  'min_child_weight': 2,\\n  'n_estimators': 100,\\n  'seed': 1,\\n  'silent': 1,\\n  'tree_method': 'gpu_hist'\\n}\\n\""
      ]
     },
     "execution_count": 8,
     "metadata": {
      "tags": []
     },
     "output_type": "execute_result"
    }
   ],
   "source": [
    "xgbClassifier = xgb.XGBClassifier()\n",
    "\"\"\"\n",
    "\n",
    "* 시간이 오래걸려서 주석처리\n",
    "* 아래는 얻은 파라메터 값\n",
    "\n",
    "\n",
    "param_grid = {\n",
    "    'silent' : [1],\n",
    "    'max_depth' : [1,2,4,6,8,10],\n",
    "    'min_child_weight' : [1,2,4,6,8,10],\n",
    "    'gamma' : [0.0, 0.1, 0.2, 0.3, 0.4],\n",
    "    'n_estimators' : [10, 50, 100, 300],\n",
    "    'seed' : [1],\n",
    "    'tree_method' : ['gpu_hist']\n",
    "}\n",
    "\n",
    "gird_search = GridSearchCV(\n",
    "    xgbClassifier,\n",
    "    param_grid,\n",
    "    cv = 5,\n",
    "    return_train_score=True,\n",
    "    n_jobs=8\n",
    ")\n",
    "\n",
    "gird_search.fit(X_train, Y_train)\n",
    "\n",
    "gird_search.best_params_\n",
    "\n",
    "{\n",
    "  'gamma': 0.0,\n",
    "  'max_depth': 4,\n",
    "  'min_child_weight': 2,\n",
    "  'n_estimators': 100,\n",
    "  'seed': 1,\n",
    "  'silent': 1,\n",
    "  'tree_method': 'gpu_hist'\n",
    "}\n",
    "\"\"\""
   ]
  },
  {
   "cell_type": "code",
   "execution_count": 0,
   "metadata": {
    "colab": {},
    "colab_type": "code",
    "id": "lCkvAfMr4Ny5"
   },
   "outputs": [],
   "source": [
    "isAmountSpentXGB = xgb.XGBClassifier(\n",
    "    gamma = 0.0,\n",
    "    max_depth = 4,\n",
    "    min_child_weight = 2,\n",
    "    n_estimators = 100,\n",
    "    seed = 1,\n",
    "    tree_method = 'gpu_hist'\n",
    ").fit(\n",
    "    X_train_is_amount,\n",
    "    label_is_amount\n",
    ")"
   ]
  },
  {
   "cell_type": "code",
   "execution_count": 10,
   "metadata": {
    "colab": {
     "base_uri": "https://localhost:8080/",
     "height": 34
    },
    "colab_type": "code",
    "executionInfo": {
     "elapsed": 22760,
     "status": "ok",
     "timestamp": 1569212720485,
     "user": {
      "displayName": "심정우",
      "photoUrl": "",
      "userId": "06910719381420194462"
     },
     "user_tz": -540
    },
    "id": "pU6StYno4NwU",
    "outputId": "cb895a72-91fe-4ad0-8f02-9f8c1f6f518e"
   },
   "outputs": [
    {
     "name": "stdout",
     "output_type": "stream",
     "text": [
      "isAmountSpentXGB : 총 40000명 중 85.67% 정확도로 0, !=0 을 구분\n"
     ]
    }
   ],
   "source": [
    "print('isAmountSpentXGB : 총 {}명 중 {:.2f}% 정확도로 0, !=0 을 구분'.format(\n",
    "    label_is_amount.shape[0], 100 * metrics.accuracy_score(\n",
    "        isAmountSpentXGB.predict(X_train_is_amount),\n",
    "        label_is_amount\n",
    "    )\n",
    "))"
   ]
  },
  {
   "cell_type": "markdown",
   "metadata": {
    "colab_type": "text",
    "id": "8V15kvHWM26v"
   },
   "source": [
    "## 2. survival_time 1~63, 64 구분"
   ]
  },
  {
   "cell_type": "code",
   "execution_count": 0,
   "metadata": {
    "colab": {},
    "colab_type": "code",
    "id": "DQN4-LV34Ntk"
   },
   "outputs": [],
   "source": [
    "del(train)\n",
    "train = basic_preprocessing.getTrainData()\n",
    "\n",
    "train['target_is_survival_time'] = 0\n",
    "train.loc[train['target_survival_time'] == 64, 'target_is_survival_time'] = 1\n",
    "\n",
    "is_survival_df = train.drop(['target_survival_time','target_amount_spent','acc_id','target_is_amount_spent'], axis=1)\n",
    "\n",
    "X_train_is_survival = is_survival_df.drop('target_is_survival_time', axis=1).values\n",
    "label_is_survival = is_survival_df['target_is_survival_time'].values\n",
    "\n",
    "X_train, X_test, Y_train, Y_test = train_test_split(\n",
    "  X_train_is_survival,\n",
    "  label_is_survival,\n",
    "  random_state= 0 \n",
    ")"
   ]
  },
  {
   "cell_type": "code",
   "execution_count": 13,
   "metadata": {
    "colab": {
     "base_uri": "https://localhost:8080/",
     "height": 54
    },
    "colab_type": "code",
    "executionInfo": {
     "elapsed": 23346,
     "status": "ok",
     "timestamp": 1569212721096,
     "user": {
      "displayName": "심정우",
      "photoUrl": "",
      "userId": "06910719381420194462"
     },
     "user_tz": -540
    },
    "id": "-I5hAylo4Nq6",
    "outputId": "bc3aee6e-66ee-4017-a8be-b909ac39a3fd",
    "scrolled": true
   },
   "outputs": [
    {
     "data": {
      "text/plain": [
       "\"\\nparam_grid = {\\n    'max_depth' : [1,2,4,6,8,10],\\n    'min_child_weight' : [1,2,4,6,8,10],\\n    'gamma' : [0.0, 0.1, 0.2, 0.3, 0.4],\\n    'n_estimators' : [10, 50, 100, 300],\\n    'seed' : [1],\\n    'tree_method' : ['gpu_hist']\\n#     'learning_rate' = [.01, .03, .05, .1, .25]\\n}\\n\\ngird_search = GridSearchCV(\\n    xgbClassifier,\\n    param_grid,\\n    cv = 5,\\n    return_train_score=True,\\n    n_jobs=8\\n)\\n\\ngird_search.fit(X_train, Y_train)\\n\\ngird_search.best_score_\\n\\ngird_search.score(X_test, Y_test)\\n\\ngird_search.best_params_\\n{\\n  'gamma': 0.0,\\n  'max_depth': 10,\\n  'min_child_weight': 10,\\n  'n_estimators': 300,\\n  'seed': 1,\\n  'silent': 1,\\n  'tree_method': 'gpu_hist'\\n}\\n\""
      ]
     },
     "execution_count": 13,
     "metadata": {
      "tags": []
     },
     "output_type": "execute_result"
    }
   ],
   "source": [
    "xgbClassifier = xgb.XGBClassifier()\n",
    "\"\"\"\n",
    "param_grid = {\n",
    "    'max_depth' : [1,2,4,6,8,10],\n",
    "    'min_child_weight' : [1,2,4,6,8,10],\n",
    "    'gamma' : [0.0, 0.1, 0.2, 0.3, 0.4],\n",
    "    'n_estimators' : [10, 50, 100, 300],\n",
    "    'seed' : [1],\n",
    "    'tree_method' : ['gpu_hist']\n",
    "#     'learning_rate' = [.01, .03, .05, .1, .25]\n",
    "}\n",
    "\n",
    "gird_search = GridSearchCV(\n",
    "    xgbClassifier,\n",
    "    param_grid,\n",
    "    cv = 5,\n",
    "    return_train_score=True,\n",
    "    n_jobs=8\n",
    ")\n",
    "\n",
    "gird_search.fit(X_train, Y_train)\n",
    "\n",
    "gird_search.best_score_\n",
    "\n",
    "gird_search.score(X_test, Y_test)\n",
    "\n",
    "gird_search.best_params_\n",
    "{\n",
    "  'gamma': 0.0,\n",
    "  'max_depth': 10,\n",
    "  'min_child_weight': 10,\n",
    "  'n_estimators': 300,\n",
    "  'seed': 1,\n",
    "  'silent': 1,\n",
    "  'tree_method': 'gpu_hist'\n",
    "}\n",
    "\"\"\"\n"
   ]
  },
  {
   "cell_type": "code",
   "execution_count": 0,
   "metadata": {
    "colab": {},
    "colab_type": "code",
    "id": "GCWuJ3_hNlZ6"
   },
   "outputs": [],
   "source": [
    "isSurvivalTimeXGB = xgb.XGBClassifier(\n",
    "    gamma = 0.0,\n",
    "    max_depth = 10,\n",
    "    min_child_weight = 10,\n",
    "    n_estimators = 300,\n",
    "    seed = 1,\n",
    "    tree_method = 'gpu_hist'\n",
    ").fit(\n",
    "    X_train_is_survival,\n",
    "    label_is_survival\n",
    ")"
   ]
  },
  {
   "cell_type": "code",
   "execution_count": 15,
   "metadata": {
    "colab": {
     "base_uri": "https://localhost:8080/",
     "height": 34
    },
    "colab_type": "code",
    "executionInfo": {
     "elapsed": 55351,
     "status": "ok",
     "timestamp": 1569212753114,
     "user": {
      "displayName": "심정우",
      "photoUrl": "",
      "userId": "06910719381420194462"
     },
     "user_tz": -540
    },
    "id": "eJqUQUY7Nnoq",
    "outputId": "a95d0ca0-3807-4afe-e8f8-23c0232f956e"
   },
   "outputs": [
    {
     "name": "stdout",
     "output_type": "stream",
     "text": [
      "isSurvivalTimeXGB : 총 40000명 중 96.45% 정확도로 0~63, 64를 구분\n"
     ]
    }
   ],
   "source": [
    "print('isSurvivalTimeXGB : 총 {}명 중 {:.2f}% 정확도로 0~63, 64를 구분'.format(\n",
    "    label_is_survival.shape[0], 100 * metrics.accuracy_score(\n",
    "        isSurvivalTimeXGB.predict(X_train_is_survival),\n",
    "        label_is_survival\n",
    "    )\n",
    "))"
   ]
  },
  {
   "cell_type": "markdown",
   "metadata": {
    "colab_type": "text",
    "id": "MX_TINN_S3Y4"
   },
   "source": [
    "## 3. survival_time 1~63, 64 구분값과 amount_spent 0, !=0 구분 값을 feature로 사용한 최종 모델링"
   ]
  },
  {
   "cell_type": "code",
   "execution_count": 0,
   "metadata": {
    "colab": {},
    "colab_type": "code",
    "id": "izgGA_Z-TY7A"
   },
   "outputs": [],
   "source": [
    "train = basic_preprocessing.getTrainData()"
   ]
  },
  {
   "cell_type": "code",
   "execution_count": 0,
   "metadata": {
    "colab": {},
    "colab_type": "code",
    "id": "w-DJLWulOFoi"
   },
   "outputs": [],
   "source": [
    "train_df = train.drop(['target_survival_time','target_amount_spent','acc_id','target_is_survival_time','target_is_amount_spent'], axis=1)\n",
    "isAmountPredict = isAmountSpentXGB.predict(train_df.values)\n",
    "isSurvivalPredict = isSurvivalTimeXGB.predict(train_df.values)\n",
    "\n",
    "train_df['is_amount_spent'] = isAmountPredict\n",
    "train_df['is_survival_time'] = isSurvivalPredict"
   ]
  },
  {
   "cell_type": "code",
   "execution_count": 0,
   "metadata": {
    "colab": {},
    "colab_type": "code",
    "id": "x-rRx7PcTT2n"
   },
   "outputs": [],
   "source": [
    "# train_df['acc_id'] = train['acc_id']\n",
    "# train_df['target_survival_time'] = train['target_survival_time']"
   ]
  },
  {
   "cell_type": "code",
   "execution_count": 0,
   "metadata": {
    "colab": {},
    "colab_type": "code",
    "id": "wj0vsY7MTTzy"
   },
   "outputs": [],
   "source": [
    "train_label = train[['target_survival_time']]\n",
    "\n",
    "X_train, X_test, Y_train, Y_test = train_test_split(\n",
    "  train_df.values,\n",
    "  train_label.values,\n",
    "  random_state= 0 \n",
    ")"
   ]
  },
  {
   "cell_type": "code",
   "execution_count": 25,
   "metadata": {
    "colab": {
     "base_uri": "https://localhost:8080/",
     "height": 34
    },
    "colab_type": "code",
    "executionInfo": {
     "elapsed": 40458,
     "status": "ok",
     "timestamp": 1569213215427,
     "user": {
      "displayName": "심정우",
      "photoUrl": "",
      "userId": "06910719381420194462"
     },
     "user_tz": -540
    },
    "id": "rQtXVyPfTTxM",
    "outputId": "0a71fe1d-a34c-406e-89b7-05c89ab93905"
   },
   "outputs": [
    {
     "name": "stdout",
     "output_type": "stream",
     "text": [
      "[04:32:56] WARNING: /workspace/src/objective/regression_obj.cu:152: reg:linear is now deprecated in favor of reg:squarederror.\n"
     ]
    }
   ],
   "source": [
    "sruvivalTimeXGB = xgb.XGBRegressor(\n",
    "    max_depth=10,\n",
    "    min_child_weight=6,\n",
    "    gamma=0,\n",
    "    n_estimators = 300,\n",
    "    seed = 1,\n",
    "    tree_method = 'gpu_hist'\n",
    ").fit(\n",
    "  train_df.values,\n",
    "  train_label.values\n",
    ")"
   ]
  },
  {
   "cell_type": "code",
   "execution_count": 0,
   "metadata": {
    "colab": {},
    "colab_type": "code",
    "id": "5nsPH6MvgPMa"
   },
   "outputs": [],
   "source": [
    "train_df['survival_time'] = np.round(sruvivalTimeXGB.predict(train_df.values)).astype(np.int32)\n",
    "\n",
    "# 1~64의 결과가 나오도록 수정\n",
    "train_df.loc[train_df['survival_time'] <= 0, 'survival_time'] = 1\n",
    "train_df.loc[train_df['survival_time'] >= 65, 'survival_time'] = 64"
   ]
  },
  {
   "cell_type": "code",
   "execution_count": 51,
   "metadata": {
    "colab": {
     "base_uri": "https://localhost:8080/",
     "height": 34
    },
    "colab_type": "code",
    "executionInfo": {
     "elapsed": 2323,
     "status": "ok",
     "timestamp": 1569215116143,
     "user": {
      "displayName": "심정우",
      "photoUrl": "",
      "userId": "06910719381420194462"
     },
     "user_tz": -540
    },
    "id": "GoKkKowYTTue",
    "outputId": "9585860c-de18-48ed-860d-034191f22d23"
   },
   "outputs": [
    {
     "name": "stdout",
     "output_type": "stream",
     "text": [
      "XGB : 총 40000명 중 30.04% 정확도로 0~64를 구분\n"
     ]
    }
   ],
   "source": [
    "print('XGB : 총 {}명 중 {:.2f}% 정확도로 0~64를 구분'.format(\n",
    "    train_label.values.shape[0], 100 * metrics.accuracy_score(\n",
    "        np.round(sruvivalTimeXGB.predict(train_df.drop('survival_time', axis=1).values)).astype(np.int32),\n",
    "        train_label.values\n",
    "    )\n",
    "))"
   ]
  },
  {
   "cell_type": "code",
   "execution_count": 53,
   "metadata": {
    "colab": {
     "base_uri": "https://localhost:8080/",
     "height": 34
    },
    "colab_type": "code",
    "executionInfo": {
     "elapsed": 2430,
     "status": "ok",
     "timestamp": 1569215142593,
     "user": {
      "displayName": "심정우",
      "photoUrl": "",
      "userId": "06910719381420194462"
     },
     "user_tz": -540
    },
    "id": "rZHxTwuuZF5k",
    "outputId": "4aaeb58a-36b8-4280-f875-5c449bfb8074"
   },
   "outputs": [
    {
     "name": "stdout",
     "output_type": "stream",
     "text": [
      "XGBoosting, RMRS : 4.194880808795406\n"
     ]
    }
   ],
   "source": [
    "print('XGBoosting, RMRS : {}'.format(\n",
    "    np.sqrt(metrics.mean_squared_error(\n",
    "        np.round(sruvivalTimeXGB.predict(train_df.drop('survival_time', axis=1).values)).astype(np.int32),\n",
    "        train_label.values\n",
    "    )\n",
    ")))"
   ]
  },
  {
   "cell_type": "markdown",
   "metadata": {
    "colab_type": "text",
    "id": "-HsiiuHfg0mf"
   },
   "source": [
    "## 4. amount_spent 모델링"
   ]
  },
  {
   "cell_type": "code",
   "execution_count": 0,
   "metadata": {
    "colab": {},
    "colab_type": "code",
    "id": "MUHlVdhYg0Jz"
   },
   "outputs": [],
   "source": [
    "train_label = train[['target_amount_spent']]\n",
    "\n",
    "X_train, X_test, Y_train, Y_test = train_test_split(\n",
    "  train_df.values,\n",
    "  train_label.values,\n",
    "  random_state= 0 \n",
    ")"
   ]
  },
  {
   "cell_type": "code",
   "execution_count": 56,
   "metadata": {
    "colab": {
     "base_uri": "https://localhost:8080/",
     "height": 34
    },
    "colab_type": "code",
    "executionInfo": {
     "elapsed": 14845,
     "status": "ok",
     "timestamp": 1569215433890,
     "user": {
      "displayName": "심정우",
      "photoUrl": "",
      "userId": "06910719381420194462"
     },
     "user_tz": -540
    },
    "id": "VseXi4drd4_a",
    "outputId": "a0d7a648-6960-4870-a3df-9ffced35abf7"
   },
   "outputs": [
    {
     "name": "stdout",
     "output_type": "stream",
     "text": [
      "[05:10:20] WARNING: /workspace/src/objective/regression_obj.cu:152: reg:linear is now deprecated in favor of reg:squarederror.\n"
     ]
    }
   ],
   "source": [
    "amountSpentXgbBest = xgb.XGBRegressor(\n",
    "    max_depth=1,\n",
    "    min_child_weight=1,\n",
    "    seed=27,\n",
    "    gamma=0,\n",
    "    n_estimators=300,\n",
    "    tree_method= 'gpu_hist'\n",
    ").fit(\n",
    "  train_df.values,\n",
    "  train_label.values\n",
    ")"
   ]
  },
  {
   "cell_type": "code",
   "execution_count": 58,
   "metadata": {
    "colab": {
     "base_uri": "https://localhost:8080/",
     "height": 34
    },
    "colab_type": "code",
    "executionInfo": {
     "elapsed": 1497,
     "status": "ok",
     "timestamp": 1569215511855,
     "user": {
      "displayName": "심정우",
      "photoUrl": "",
      "userId": "06910719381420194462"
     },
     "user_tz": -540
    },
    "id": "asECz75PeCPx",
    "outputId": "b616f728-9656-40d7-a578-8b3d13ab2ac7"
   },
   "outputs": [
    {
     "name": "stdout",
     "output_type": "stream",
     "text": [
      "amount_spent XGBoosting, RMRS : 0.7009644539715771\n"
     ]
    }
   ],
   "source": [
    "print('amount_spent XGBoosting, RMRS : {}'.format(\n",
    "    np.sqrt(metrics.mean_squared_error(\n",
    "        np.round(amountSpentXgbBest.predict(train_df.values)).astype(np.int32),\n",
    "        train_label.values\n",
    "    )\n",
    ")))"
   ]
  },
  {
   "cell_type": "markdown",
   "metadata": {},
   "source": [
    "## 5. 예측 결과"
   ]
  },
  {
   "cell_type": "code",
   "execution_count": 0,
   "metadata": {
    "colab": {},
    "colab_type": "code",
    "id": "jooFFwjAeUoH"
   },
   "outputs": [],
   "source": [
    "train_testing = pd.DataFrame(\n",
    "    {\n",
    "        \"acc_id\" : train['acc_id'].tolist(),\n",
    "        \"survival_time\" : train_df['survival_time'].tolist(),\n",
    "        \"amount_spent\" : train['amount_spent'].tolist()\n",
    "    }\n",
    ")"
   ]
  },
  {
   "cell_type": "code",
   "execution_count": 0,
   "metadata": {
    "colab": {},
    "colab_type": "code",
    "id": "OFCiZjLufaqO"
   },
   "outputs": [],
   "source": [
    "trainLabel = basic_preprocessing.getTrainLabelData()"
   ]
  },
  {
   "cell_type": "code",
   "execution_count": 68,
   "metadata": {
    "colab": {
     "base_uri": "https://localhost:8080/",
     "height": 34
    },
    "colab_type": "code",
    "executionInfo": {
     "elapsed": 1666,
     "status": "ok",
     "timestamp": 1569216333241,
     "user": {
      "displayName": "심정우",
      "photoUrl": "",
      "userId": "06910719381420194462"
     },
     "user_tz": -540
    },
    "id": "bNfracLvk_7F",
    "outputId": "d5f999d1-e398-4caa-abe8-b246d5d31a3c"
   },
   "outputs": [
    {
     "name": "stdout",
     "output_type": "stream",
     "text": [
      "기대이익 : 29053.660814440183\n"
     ]
    }
   ],
   "source": [
    "print(\"기대이익 : {}\".format(sf.score_function(train_testing, trainLabel)))"
   ]
  },
  {
   "cell_type": "code",
   "execution_count": 0,
   "metadata": {
    "colab": {},
    "colab_type": "code",
    "id": "OSO_KFZ2lNti"
   },
   "outputs": [],
   "source": []
  }
 ],
 "metadata": {
  "accelerator": "GPU",
  "colab": {
   "collapsed_sections": [],
   "name": "modeling.ipynb",
   "provenance": []
  },
  "kernelspec": {
   "display_name": "Python 3",
   "language": "python",
   "name": "python3"
  },
  "language_info": {
   "codemirror_mode": {
    "name": "ipython",
    "version": 3
   },
   "file_extension": ".py",
   "mimetype": "text/x-python",
   "name": "python",
   "nbconvert_exporter": "python",
   "pygments_lexer": "ipython3",
   "version": "3.6.9"
  }
 },
 "nbformat": 4,
 "nbformat_minor": 1
}
