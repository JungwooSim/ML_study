{
 "cells": [
  {
   "cell_type": "markdown",
   "metadata": {},
   "source": [
    "# 0. 분석 방향\n",
    "* 예측은 **유저별** 생존 기간, 평균 결제 금액이기 때문에 유저별로 groupby를 어떻게 진행할지에 관점을 두고 볼 것이다.\n",
    "* train, test1, test2의 데이터 분포와 통계치를 확인할 것이다.<BR>(train을 학습하여 test1과 test2를 예측하는데 데이터 간의 분포와 통계치가 많은 차이가 있을 경우 예측에 도움이 안될 것이다.)"
   ]
  },
  {
   "cell_type": "markdown",
   "metadata": {},
   "source": [
    "# 1. 도입(라이브러리, 데이터 로딩)"
   ]
  },
  {
   "cell_type": "code",
   "execution_count": 1,
   "metadata": {},
   "outputs": [],
   "source": [
    "import numpy as np\n",
    "import pandas as pd\n",
    "import matplotlib.pyplot as plt\n",
    "import seaborn as sns\n",
    "\n",
    "plt.style.use('seaborn')\n",
    "sns.set(font_scale=2.5)\n",
    "\n",
    "import missingno as msno\n",
    "from statsmodels.formula.api import ols\n",
    "from statsmodels.stats.anova import anova_lm\n",
    "import scipy as sp\n",
    "\n",
    "import warnings\n",
    "warnings.filterwarnings('ignore')\n",
    "from collections import OrderedDict\n",
    "     \n",
    "import os\n",
    "%matplotlib inline\n",
    "\n",
    "pd.set_option('display.max_columns', 150)\n",
    "pd.set_option('display.max_rows', 500)\n",
    "pd.options.display.float_format = '{:.2f}'.format"
   ]
  },
  {
   "cell_type": "code",
   "execution_count": 2,
   "metadata": {},
   "outputs": [],
   "source": [
    "os.chdir('..') #상위디렉터리로 이동\n",
    "path_dir = os.getcwd()+\"/champions/\"\n",
    "file_list = sorted(os.listdir(path_dir))\n",
    "\n",
    "data_dict = OrderedDict()\n",
    "for file in file_list:\n",
    "    if file.find('csv') is not -1:\n",
    "        if file.split('_')[1] == 'trade.csv':\n",
    "            data_dict[file.split('.')[0]] = pd.read_csv(path_dir+file)"
   ]
  },
  {
   "cell_type": "markdown",
   "metadata": {},
   "source": [
    "## 1.1 자료 구분값 추가(load 파일 구분)"
   ]
  },
  {
   "cell_type": "code",
   "execution_count": 3,
   "metadata": {},
   "outputs": [],
   "source": [
    "data_dict['train_trade']['kind'] = 'train'\n",
    "data_dict['test1_trade']['kind'] = 'test1'\n",
    "data_dict['test2_trade']['kind'] = 'test2'\n",
    "data_dict['train_trade']['kind_int'] = 1\n",
    "data_dict['test1_trade']['kind_int'] = 2\n",
    "data_dict['test2_trade']['kind_int'] = 3\n",
    "\n",
    "trade_all = data_dict['train_trade'].append(data_dict['test1_trade'])\n",
    "del(data_dict['train_trade'])\n",
    "del(data_dict['test1_trade'])\n",
    "trade_all = trade_all.append(data_dict['test2_trade'])\n",
    "del(data_dict['test2_trade'])"
   ]
  },
  {
   "cell_type": "code",
   "execution_count": 4,
   "metadata": {},
   "outputs": [
    {
     "data": {
      "text/plain": [
       "(3285150, 13)"
      ]
     },
     "execution_count": 4,
     "metadata": {},
     "output_type": "execute_result"
    }
   ],
   "source": [
    "trade_all.shape"
   ]
  },
  {
   "cell_type": "code",
   "execution_count": 5,
   "metadata": {},
   "outputs": [
    {
     "data": {
      "text/plain": [
       "kind\n",
       "test1     735652\n",
       "test2     700173\n",
       "train    1849325\n",
       "Name: day, dtype: int64"
      ]
     },
     "execution_count": 5,
     "metadata": {},
     "output_type": "execute_result"
    }
   ],
   "source": [
    "trade_all.groupby('kind')['day'].count()"
   ]
  },
  {
   "cell_type": "code",
   "execution_count": 6,
   "metadata": {},
   "outputs": [
    {
     "name": "stdout",
     "output_type": "stream",
     "text": [
      "<class 'pandas.core.frame.DataFrame'>\n",
      "Int64Index: 3285150 entries, 0 to 700172\n",
      "Data columns (total 13 columns):\n",
      "day               int64\n",
      "time              object\n",
      "type              int64\n",
      "server            object\n",
      "source_acc_id     int64\n",
      "source_char_id    int64\n",
      "target_acc_id     int64\n",
      "target_char_id    int64\n",
      "item_type         object\n",
      "item_amount       float64\n",
      "item_price        float64\n",
      "kind              object\n",
      "type_int          int64\n",
      "dtypes: float64(2), int64(7), object(4)\n",
      "memory usage: 350.9+ MB\n"
     ]
    }
   ],
   "source": [
    "trade_all.info()"
   ]
  },
  {
   "cell_type": "code",
   "execution_count": 40,
   "metadata": {},
   "outputs": [
    {
     "data": {
      "text/plain": [
       "day                     0\n",
       "time                    0\n",
       "type                    0\n",
       "server                  0\n",
       "source_acc_id           0\n",
       "source_char_id          0\n",
       "target_acc_id           0\n",
       "target_char_id          0\n",
       "item_type               0\n",
       "item_amount             0\n",
       "item_price        1968180\n",
       "kind                    0\n",
       "type_int                0\n",
       "dtype: int64"
      ]
     },
     "execution_count": 40,
     "metadata": {},
     "output_type": "execute_result"
    }
   ],
   "source": [
    "trade_all.isna().sum()"
   ]
  },
  {
   "cell_type": "code",
   "execution_count": 7,
   "metadata": {},
   "outputs": [
    {
     "data": {
      "text/html": [
       "<div>\n",
       "<style scoped>\n",
       "    .dataframe tbody tr th:only-of-type {\n",
       "        vertical-align: middle;\n",
       "    }\n",
       "\n",
       "    .dataframe tbody tr th {\n",
       "        vertical-align: top;\n",
       "    }\n",
       "\n",
       "    .dataframe thead th {\n",
       "        text-align: right;\n",
       "    }\n",
       "</style>\n",
       "<table border=\"1\" class=\"dataframe\">\n",
       "  <thead>\n",
       "    <tr style=\"text-align: right;\">\n",
       "      <th></th>\n",
       "      <th>day</th>\n",
       "      <th>time</th>\n",
       "      <th>type</th>\n",
       "      <th>server</th>\n",
       "      <th>source_acc_id</th>\n",
       "      <th>source_char_id</th>\n",
       "      <th>target_acc_id</th>\n",
       "      <th>target_char_id</th>\n",
       "      <th>item_type</th>\n",
       "      <th>item_amount</th>\n",
       "      <th>item_price</th>\n",
       "      <th>kind</th>\n",
       "      <th>type_int</th>\n",
       "    </tr>\n",
       "  </thead>\n",
       "  <tbody>\n",
       "    <tr>\n",
       "      <td>0</td>\n",
       "      <td>7</td>\n",
       "      <td>21:13:05</td>\n",
       "      <td>1</td>\n",
       "      <td>ag</td>\n",
       "      <td>11439</td>\n",
       "      <td>385109</td>\n",
       "      <td>48152</td>\n",
       "      <td>34247</td>\n",
       "      <td>enchant_scroll</td>\n",
       "      <td>4.793968e-08</td>\n",
       "      <td>NaN</td>\n",
       "      <td>train</td>\n",
       "      <td>1</td>\n",
       "    </tr>\n",
       "    <tr>\n",
       "      <td>1</td>\n",
       "      <td>2</td>\n",
       "      <td>15:33:00</td>\n",
       "      <td>1</td>\n",
       "      <td>al</td>\n",
       "      <td>22220</td>\n",
       "      <td>259705</td>\n",
       "      <td>43228</td>\n",
       "      <td>379826</td>\n",
       "      <td>enchant_scroll</td>\n",
       "      <td>4.314571e-06</td>\n",
       "      <td>NaN</td>\n",
       "      <td>train</td>\n",
       "      <td>1</td>\n",
       "    </tr>\n",
       "    <tr>\n",
       "      <td>2</td>\n",
       "      <td>1</td>\n",
       "      <td>14:24:53</td>\n",
       "      <td>1</td>\n",
       "      <td>al</td>\n",
       "      <td>18212</td>\n",
       "      <td>164230</td>\n",
       "      <td>38145</td>\n",
       "      <td>34209</td>\n",
       "      <td>accessory</td>\n",
       "      <td>7.190952e-08</td>\n",
       "      <td>NaN</td>\n",
       "      <td>train</td>\n",
       "      <td>1</td>\n",
       "    </tr>\n",
       "    <tr>\n",
       "      <td>3</td>\n",
       "      <td>7</td>\n",
       "      <td>23:13:43</td>\n",
       "      <td>1</td>\n",
       "      <td>au</td>\n",
       "      <td>121622</td>\n",
       "      <td>49839</td>\n",
       "      <td>71226</td>\n",
       "      <td>281334</td>\n",
       "      <td>adena</td>\n",
       "      <td>9.587936e-03</td>\n",
       "      <td>NaN</td>\n",
       "      <td>train</td>\n",
       "      <td>1</td>\n",
       "    </tr>\n",
       "    <tr>\n",
       "      <td>4</td>\n",
       "      <td>2</td>\n",
       "      <td>12:43:33</td>\n",
       "      <td>0</td>\n",
       "      <td>bd</td>\n",
       "      <td>14421</td>\n",
       "      <td>344503</td>\n",
       "      <td>65220</td>\n",
       "      <td>210558</td>\n",
       "      <td>etc</td>\n",
       "      <td>1.198492e-07</td>\n",
       "      <td>0.000639</td>\n",
       "      <td>train</td>\n",
       "      <td>1</td>\n",
       "    </tr>\n",
       "    <tr>\n",
       "      <td>5</td>\n",
       "      <td>2</td>\n",
       "      <td>16:56:12</td>\n",
       "      <td>0</td>\n",
       "      <td>aj</td>\n",
       "      <td>90975</td>\n",
       "      <td>346488</td>\n",
       "      <td>22407</td>\n",
       "      <td>110658</td>\n",
       "      <td>enchant_scroll</td>\n",
       "      <td>7.190952e-08</td>\n",
       "      <td>0.005693</td>\n",
       "      <td>train</td>\n",
       "      <td>1</td>\n",
       "    </tr>\n",
       "    <tr>\n",
       "      <td>6</td>\n",
       "      <td>2</td>\n",
       "      <td>21:54:22</td>\n",
       "      <td>1</td>\n",
       "      <td>av</td>\n",
       "      <td>10578</td>\n",
       "      <td>286509</td>\n",
       "      <td>52677</td>\n",
       "      <td>365997</td>\n",
       "      <td>etc</td>\n",
       "      <td>4.793968e-05</td>\n",
       "      <td>NaN</td>\n",
       "      <td>train</td>\n",
       "      <td>1</td>\n",
       "    </tr>\n",
       "    <tr>\n",
       "      <td>7</td>\n",
       "      <td>7</td>\n",
       "      <td>14:14:46</td>\n",
       "      <td>0</td>\n",
       "      <td>bc</td>\n",
       "      <td>96563</td>\n",
       "      <td>209660</td>\n",
       "      <td>82644</td>\n",
       "      <td>54832</td>\n",
       "      <td>etc</td>\n",
       "      <td>1.198492e-07</td>\n",
       "      <td>0.067717</td>\n",
       "      <td>train</td>\n",
       "      <td>1</td>\n",
       "    </tr>\n",
       "    <tr>\n",
       "      <td>8</td>\n",
       "      <td>6</td>\n",
       "      <td>02:29:14</td>\n",
       "      <td>1</td>\n",
       "      <td>av</td>\n",
       "      <td>107975</td>\n",
       "      <td>5446</td>\n",
       "      <td>13885</td>\n",
       "      <td>181430</td>\n",
       "      <td>etc</td>\n",
       "      <td>7.670349e-06</td>\n",
       "      <td>NaN</td>\n",
       "      <td>train</td>\n",
       "      <td>1</td>\n",
       "    </tr>\n",
       "    <tr>\n",
       "      <td>9</td>\n",
       "      <td>6</td>\n",
       "      <td>02:29:02</td>\n",
       "      <td>0</td>\n",
       "      <td>as</td>\n",
       "      <td>91572</td>\n",
       "      <td>154600</td>\n",
       "      <td>41504</td>\n",
       "      <td>4697</td>\n",
       "      <td>etc</td>\n",
       "      <td>4.793968e-08</td>\n",
       "      <td>0.183391</td>\n",
       "      <td>train</td>\n",
       "      <td>1</td>\n",
       "    </tr>\n",
       "  </tbody>\n",
       "</table>\n",
       "</div>"
      ],
      "text/plain": [
       "   day      time  type server  source_acc_id  source_char_id  target_acc_id  \\\n",
       "0    7  21:13:05     1     ag          11439          385109          48152   \n",
       "1    2  15:33:00     1     al          22220          259705          43228   \n",
       "2    1  14:24:53     1     al          18212          164230          38145   \n",
       "3    7  23:13:43     1     au         121622           49839          71226   \n",
       "4    2  12:43:33     0     bd          14421          344503          65220   \n",
       "5    2  16:56:12     0     aj          90975          346488          22407   \n",
       "6    2  21:54:22     1     av          10578          286509          52677   \n",
       "7    7  14:14:46     0     bc          96563          209660          82644   \n",
       "8    6  02:29:14     1     av         107975            5446          13885   \n",
       "9    6  02:29:02     0     as          91572          154600          41504   \n",
       "\n",
       "   target_char_id       item_type   item_amount  item_price   kind  type_int  \n",
       "0           34247  enchant_scroll  4.793968e-08         NaN  train         1  \n",
       "1          379826  enchant_scroll  4.314571e-06         NaN  train         1  \n",
       "2           34209       accessory  7.190952e-08         NaN  train         1  \n",
       "3          281334           adena  9.587936e-03         NaN  train         1  \n",
       "4          210558             etc  1.198492e-07    0.000639  train         1  \n",
       "5          110658  enchant_scroll  7.190952e-08    0.005693  train         1  \n",
       "6          365997             etc  4.793968e-05         NaN  train         1  \n",
       "7           54832             etc  1.198492e-07    0.067717  train         1  \n",
       "8          181430             etc  7.670349e-06         NaN  train         1  \n",
       "9            4697             etc  4.793968e-08    0.183391  train         1  "
      ]
     },
     "execution_count": 7,
     "metadata": {},
     "output_type": "execute_result"
    }
   ],
   "source": [
    "trade_all.head(10)"
   ]
  },
  {
   "cell_type": "markdown",
   "metadata": {},
   "source": [
    "# 2. 탐색적 자료 분석"
   ]
  },
  {
   "cell_type": "code",
   "execution_count": 8,
   "metadata": {},
   "outputs": [
    {
     "name": "stdout",
     "output_type": "stream",
     "text": [
      "source_acc_id 총 개수 : 3285150\n",
      "target_char_id 총 개수 : 3285150\n",
      "source_acc_id의 유니크 개수 : 86158\n",
      "target_char_id의 유니크 개수 : 173263\n"
     ]
    }
   ],
   "source": [
    "print(\"source_acc_id 총 개수 : {}\".format(trade_all['source_acc_id'].size))\n",
    "print(\"target_char_id 총 개수 : {}\".format(trade_all['target_char_id'].size))\n",
    "print(\"source_acc_id의 유니크 개수 : {}\".format(trade_all['source_acc_id'].unique().size))\n",
    "print(\"target_char_id의 유니크 개수 : {}\".format(trade_all['target_char_id'].unique().size))"
   ]
  },
  {
   "cell_type": "code",
   "execution_count": 39,
   "metadata": {},
   "outputs": [
    {
     "data": {
      "text/plain": [
       "0"
      ]
     },
     "execution_count": 39,
     "metadata": {},
     "output_type": "execute_result"
    }
   ],
   "source": [
    "sum(trade_all['source_acc_id'] == trade_all['target_acc_id'])"
   ]
  },
  {
   "cell_type": "markdown",
   "metadata": {},
   "source": [
    "* source_acc_id != target_acc_id 을 알 수 있다.\n",
    "* 상식대로(?) 내가 나와 거래는 할 수 없다."
   ]
  },
  {
   "cell_type": "markdown",
   "metadata": {},
   "source": [
    "# 3. Feature Engineering\n",
    "\n",
    "**FE를 통해 추가한 변수 리스트**\n",
    "\n",
    "* 기록된 day 변수의 개수와 리스트\n",
    "    * **day_sum_count_trade** : 개수\n",
    "    * **day_sum_detail_trade** : 리스트\n",
    "* 활동중인 서버, 서버리스트\n",
    "    * **server_sum_count_trade** : 개수\n",
    "    * **server_sum_detail_trade** : 리스트\n",
    "* 거래한 케릭터 개수와 리스트\n",
    "    * **char_sum_count_trade** : 개수\n",
    "    * **char_sum_detail_trade** : 리스트\n",
    "* (교환+개인상점)을 했던 유저 수와 리스트\n",
    "    * **trade_accid_account** : 개수\n",
    "    * **trade_accid_detail** : 리스트\n",
    "* **type_1_accid_account** : 거래한 유저의 수\n",
    "* **trade_source_count** : 교환창으로 주거나/판매한 횟수\n",
    "* **trade_target_count** : 교환창으로 받거나/구매한 횟수\n",
    "* **type_1** : 교환창을 통해 주거나/판매한 횟수 + 받거나/구매한 횟수\n",
    "* **type_0_source_count** : 상점 거래로 판매한 횟수\n",
    "* **type_0_target_count** : 상점 거래로 구매한 횟수\n",
    "* **type_0** : 상점을 통해 판매한 횟수 + 구매한 횟수\n",
    "* **type_total_sum** : 교환+상점을 통해 거래한 횟수\n",
    "* **type_0_is_open** : 상점 오픈 유무\n",
    "* 아이템을 받거나 구매한 양\n",
    "    * **item_accessory_count** : 액세서리 개수\n",
    "    * **item_adena_count** : 아데나 개수\n",
    "    * **item_armor_count** : 방어구 개수\n",
    "    * **item_enchant_scroll_count** : 주문서 개수\n",
    "    * **item_etc_count** : 기타 개수\n",
    "    * **item_spell_count** : 스킬북 개수\n",
    "    * **item_weapon_count** : 무기 개수\n",
    "* 아이템을 팔거나 준것\n",
    "    * **item_accessory_out_count** : 액세서리 개수\n",
    "    * **item_adena_out_count** : 아데나 개수\n",
    "    * **item_armor_out_count** : 방어구 개수\n",
    "    * **item_enchant_scroll_out_count** : 주문서 개수\n",
    "    * **item_etc_out_count** : 기타 개수\n",
    "    * **item_spell_out_count** : 스킬북 개수\n",
    "    * **item_weapon_out_count** : 무기 개수\n",
    "* **type_0_avenue** : 상점 수입\n",
    "* **not_any_trade** : 거래 유무"
   ]
  },
  {
   "cell_type": "code",
   "execution_count": null,
   "metadata": {},
   "outputs": [],
   "source": []
  }
 ],
 "metadata": {
  "kernelspec": {
   "display_name": "Python 3",
   "language": "python",
   "name": "python3"
  },
  "language_info": {
   "codemirror_mode": {
    "name": "ipython",
    "version": 3
   },
   "file_extension": ".py",
   "mimetype": "text/x-python",
   "name": "python",
   "nbconvert_exporter": "python",
   "pygments_lexer": "ipython3",
   "version": "3.6.9"
  }
 },
 "nbformat": 4,
 "nbformat_minor": 2
}
